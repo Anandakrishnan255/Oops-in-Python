{
 "cells": [
  {
   "cell_type": "markdown",
   "id": "0970094e-df11-4280-bd3c-1ca38d15afaa",
   "metadata": {},
   "source": [
    "Question 1"
   ]
  },
  {
   "cell_type": "code",
   "execution_count": 7,
   "id": "9c6f4e22-d910-4531-8a20-85e0e4378ded",
   "metadata": {},
   "outputs": [
    {
     "name": "stdout",
     "output_type": "stream",
     "text": [
      "Core Course:\n",
      "Code: CS101\n",
      "Name: Introduction to Computer Science\n",
      "Credits: 3\n",
      "Required for Major: True\n",
      "\n",
      "Elective Course:\n",
      "Code: CS102\n",
      "Name: Game Development\n",
      "Credits: 3\n",
      "Elective Type: technical\n"
     ]
    }
   ],
   "source": [
    "class Course:\n",
    "    def __init__(self, code, name, hours):\n",
    "        self.course_code = code\n",
    "        self.course_name = name\n",
    "        self.credit_hours = hours\n",
    "\n",
    "class CoreCourse(Course):\n",
    "    def __init__(self, code, name, hours, required):\n",
    "        super().__init__(code, name, hours)\n",
    "        self.required_for_major = required\n",
    "\n",
    "class ElectiveCourse(Course):\n",
    "    def __init__(self, code, name, hours, elective_type):\n",
    "        super().__init__(code, name, hours)\n",
    "        self.elective_type = elective_type\n",
    "\n",
    "\n",
    "core = CoreCourse(\"CS101\", \"Introduction to Computer Science\", 3, True)\n",
    "elective = ElectiveCourse(\"CS102\", \"Game Development\", 3, \"technical\")\n",
    "\n",
    "print(\"Core Course:\")\n",
    "print(\"Code:\", core.course_code)\n",
    "print(\"Name:\", core.course_name)\n",
    "print(\"Credits:\", core.credit_hours)\n",
    "print(\"Required for Major:\", core.required_for_major)\n",
    "\n",
    "print(\"\\nElective Course:\")\n",
    "print(\"Code:\", elective.course_code)\n",
    "print(\"Name:\", elective.course_name)\n",
    "print(\"Credits:\", elective.credit_hours)\n",
    "print(\"Elective Type:\", elective.elective_type)"
   ]
  },
  {
   "cell_type": "markdown",
   "id": "67115523-ca73-410c-bcc0-f40af76a55d0",
   "metadata": {},
   "source": [
    "Question 2 continue"
   ]
  },
  {
   "cell_type": "code",
   "execution_count": 63,
   "id": "c69b3bdc-5e20-4bfd-81be-c716f97025cb",
   "metadata": {},
   "outputs": [
    {
     "name": "stdout",
     "output_type": "stream",
     "text": [
      "Employee Name: Anandhu\n",
      "Employee Salary: 50000\n"
     ]
    }
   ],
   "source": [
    "#import import_ipynb\n",
    "import importlib\n",
    "import employee\n",
    "importlib.reload(employee)\n",
    "from employee import Employee\n",
    "\n",
    "emp=Employee(\"Anandhu\",50000)\n",
    "print(\"Employee Name:\",emp.get_name())\n",
    "print(\"Employee Salary:\",emp.get_salary())"
   ]
  },
  {
   "cell_type": "code",
   "execution_count": null,
   "id": "9849ec64-0f3d-4772-b9ea-e15b034f00f3",
   "metadata": {},
   "outputs": [],
   "source": []
  },
  {
   "cell_type": "code",
   "execution_count": null,
   "id": "dbda5d4f-7f9c-4f2c-a29b-8e7af7d6330c",
   "metadata": {},
   "outputs": [],
   "source": []
  }
 ],
 "metadata": {
  "kernelspec": {
   "display_name": "Python [conda env:base] *",
   "language": "python",
   "name": "conda-base-py"
  },
  "language_info": {
   "codemirror_mode": {
    "name": "ipython",
    "version": 3
   },
   "file_extension": ".py",
   "mimetype": "text/x-python",
   "name": "python",
   "nbconvert_exporter": "python",
   "pygments_lexer": "ipython3",
   "version": "3.12.7"
  }
 },
 "nbformat": 4,
 "nbformat_minor": 5
}
